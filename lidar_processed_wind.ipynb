{
 "cells": [
  {
   "cell_type": "code",
   "execution_count": 1,
   "id": "28d12826-704d-44d4-847a-57b327bd4a3c",
   "metadata": {},
   "outputs": [],
   "source": [
    "import xarray as xr\n",
    "import numpy as np\n",
    "from datetime import datetime\n",
    "import pandas as pd"
   ]
  },
  {
   "cell_type": "code",
   "execution_count": 2,
   "id": "e1c999dd-bb1e-419f-866c-24e6fbb3251b",
   "metadata": {},
   "outputs": [],
   "source": [
    "from tqdm import tqdm"
   ]
  },
  {
   "cell_type": "code",
   "execution_count": 3,
   "id": "b51c6832-ffe4-4d9e-8956-29ea5ed1b0dc",
   "metadata": {},
   "outputs": [],
   "source": [
    "from glob import glob"
   ]
  },
  {
   "cell_type": "code",
   "execution_count": 4,
   "id": "69722e28-8154-4933-bc01-cf16fdda9a0e",
   "metadata": {},
   "outputs": [],
   "source": [
    "import matplotlib.pyplot as plt"
   ]
  },
  {
   "cell_type": "markdown",
   "id": "a155071f-b78f-46b3-8b03-c1d82f64550c",
   "metadata": {},
   "source": [
    "## convert processed wind hpl to nc"
   ]
  },
  {
   "cell_type": "code",
   "execution_count": 6,
   "id": "6aec49f2-26e3-4c1d-af69-b9b4190df39f",
   "metadata": {},
   "outputs": [],
   "source": [
    "files = sorted(glob(\"/home/UOCNT/dli84/research/Bottle_lake/Field_data/Lidar_full_Burwood/Proc/2023/processed_wind_hpl/Processed_Wind_Profile_252_20230*.hpl\"))"
   ]
  },
  {
   "cell_type": "code",
   "execution_count": 42,
   "id": "9f405832-9492-455f-bfa6-da3f9c01f746",
   "metadata": {},
   "outputs": [
    {
     "name": "stderr",
     "output_type": "stream",
     "text": [
      "100%|██████████| 2012/2012 [01:17<00:00, 25.91it/s]"
     ]
    },
    {
     "name": "stdout",
     "output_type": "stream",
     "text": [
      "CPU times: user 24.7 s, sys: 3.62 s, total: 28.3 s\n",
      "Wall time: 1min 17s\n"
     ]
    },
    {
     "name": "stderr",
     "output_type": "stream",
     "text": [
      "\n"
     ]
    }
   ],
   "source": [
    "%%time\n",
    "for file_path in tqdm(files,position=0, leave=True):\n",
    "    ## change timestamp so it will be saved into netcdf\n",
    "    ts = file_path[125:-4]\n",
    "    datetime_format = \"%Y%m%d_%H%M%S\"\n",
    "\n",
    "    # Parse the input string into a datetime object\n",
    "    parsed_datetime = datetime.strptime(ts, datetime_format)\n",
    "    \n",
    "    ## read hpl file \n",
    "    with open(file_path, 'r') as text_file:\n",
    "        lines=text_file.readlines()\n",
    "    tot_line = int(lines[0].split()[0])\n",
    "    distance = []\n",
    "    wdir = []\n",
    "    wspeed = []\n",
    "    for i in range(1, tot_line):\n",
    "        distance.append(float(lines[i].split()[0]))\n",
    "        wdir.append(float(lines[i].split()[1]))\n",
    "        wspeed.append(float(lines[i].split()[2]))\n",
    "        \n",
    "    ## output netcdf\n",
    "    outfile_name = file_path.replace(\".hpl\",\".nc\")\n",
    "    nc_output = xr.Dataset()\n",
    "    nc_output.attrs['data_extration_time'] = str(parsed_datetime)\n",
    "    nc_output.attrs['Conventions'] = 'CF-1.7'\n",
    "    nc_output.attrs['Author'] = 'dongqi.lin@canterbury.ac.nz'\n",
    "    nc_output['distance'] = xr.DataArray(np.array(distance), dims=['distance'], attrs={'units':'m'})\n",
    "\n",
    "    nc_output.to_netcdf(outfile_name)\n",
    "\n",
    "    nc_output['wdir'] = xr.DataArray(np.array(wdir),dims=['distance'], attrs={'units':'degree'})\n",
    "    nc_output['wspeed'] = xr.DataArray(np.array(wspeed),dims=['distance'], attrs={'units':'m/s'})\n",
    "\n",
    "    for var in nc_output.data_vars:\n",
    "        encoding = {var: {'dtype': 'float32', '_FillValue': -9999, 'zlib':True}}\n",
    "        nc_output[var].to_netcdf(outfile_name, mode ='a', encoding=encoding)\n",
    "\n",
    "    nc_output.close()"
   ]
  },
  {
   "cell_type": "code",
   "execution_count": null,
   "id": "e54ef25b-f05f-4f84-a813-37b55d29e4c0",
   "metadata": {},
   "outputs": [],
   "source": []
  }
 ],
 "metadata": {
  "kernelspec": {
   "display_name": "Python (baseline)",
   "language": "python",
   "name": "baseline"
  },
  "language_info": {
   "codemirror_mode": {
    "name": "ipython",
    "version": 3
   },
   "file_extension": ".py",
   "mimetype": "text/x-python",
   "name": "python",
   "nbconvert_exporter": "python",
   "pygments_lexer": "ipython3",
   "version": "3.9.15"
  }
 },
 "nbformat": 4,
 "nbformat_minor": 5
}
